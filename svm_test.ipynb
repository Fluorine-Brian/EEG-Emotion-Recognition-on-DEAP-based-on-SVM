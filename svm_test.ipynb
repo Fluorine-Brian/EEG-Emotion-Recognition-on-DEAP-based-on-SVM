{
 "cells": [
  {
   "cell_type": "code",
   "id": "initial_id",
   "metadata": {
    "collapsed": true,
    "ExecuteTime": {
     "end_time": "2025-03-06T02:45:57.819666Z",
     "start_time": "2025-03-06T02:45:56.602666Z"
    }
   },
   "source": [
    "from sklearn.svm import SVC\n",
    "from sklearn.preprocessing import StandardScaler\n",
    "from sklearn.model_selection import train_test_split\n",
    "from deap_preprocessor import DEAPDataProcessor\n",
    "import numpy as np\n",
    "import matplotlib.pyplot as plt\n",
    "import math\n",
    "import pandas as pd\n",
    "from sklearn.model_selection import GridSearchCV \n",
    "from sklearn.metrics import accuracy_score \n",
    "from sklearn.metrics import classification_report"
   ],
   "execution_count": 1,
   "outputs": []
  },
  {
   "metadata": {
    "ExecuteTime": {
     "end_time": "2025-03-06T02:46:03.568595Z",
     "start_time": "2025-03-06T02:45:59.494248Z"
    }
   },
   "cell_type": "code",
   "source": [
    "processor = DEAPDataProcessor(data_folder=\"C://EEG_Emotion_Project/DEAP_code/DEAP/data_preprocessed_python/\")\n",
    "processor.load_data()\n",
    "processor.split_channels()\n",
    "# print(processor.labels.shape)\n",
    "labels_encoded = processor.get_label_dataframe().values\n",
    "print(f\"标签的数据大小为{labels_encoded.shape}\")\n",
    "eeg_data = processor.get_eeg_data()\n",
    "print(f\"总数据的大小为{eeg_data.shape}\")\n",
    "\n",
    "eeg_data = eeg_data[:, :, 4224:]\n",
    "print(type(eeg_data))\n",
    "\n",
    "# # 转换为 numpy 数组\n",
    "# eeg_data = np.array(eeg_data) # \n",
    "# labels_encoded = np.array(labels_encoded)\n",
    "# print(f\"分割后的总训练数据大小为: {eeg_data.shape}\")\n",
    "# print(f\"分割后的总训练标签大小为: {labels_encoded.shape}\")\n",
    "# \n",
    "# scaler = StandardScaler()\n",
    "# eeg_data = scaler.fit_transform(eeg_data.reshape(-1, eeg_data.shape[-1])).reshape(eeg_data.shape)"
   ],
   "id": "c40f4e98183f2d01",
   "execution_count": 2,
   "outputs": []
  },
  {
   "metadata": {
    "ExecuteTime": {
     "end_time": "2025-03-06T02:46:06.102534Z",
     "start_time": "2025-03-06T02:46:06.087774Z"
    }
   },
   "cell_type": "code",
   "source": [
    "def compute_DE(signal):\n",
    "    variance = np.var(signal, ddof=1)  \n",
    "    return math.log(2 * math.pi * math.e * variance) / 2  # 微分熵求取公式"
   ],
   "id": "58a1d2920cb5475e",
   "execution_count": 3,
   "outputs": []
  },
  {
   "metadata": {
    "ExecuteTime": {
     "end_time": "2025-03-06T02:49:54.969013Z",
     "start_time": "2025-03-06T02:49:54.394726Z"
    }
   },
   "cell_type": "code",
   "source": [
    "eeg_DE_data = []\n",
    "eeg_DE_data_per_subject = []\n",
    "for data in eeg_data:\n",
    "    for signal in data:\n",
    "        DE_data = compute_DE(signal)\n",
    "        eeg_DE_data_per_subject.append(DE_data)\n",
    "    eeg_DE_data.append(eeg_DE_data_per_subject)\n",
    "    eeg_DE_data_per_subject = []\n",
    "\n",
    "eeg_DE_data = np.array(eeg_DE_data)\n",
    "print(eeg_DE_data.shape)"
   ],
   "id": "20b5d76413e8c1c8",
   "execution_count": 4,
   "outputs": []
  },
  {
   "metadata": {
    "ExecuteTime": {
     "end_time": "2025-03-06T02:50:15.998959Z",
     "start_time": "2025-03-06T02:50:15.988905Z"
    }
   },
   "cell_type": "code",
   "source": [
    "label = []\n",
    "for i in labels_encoded:\n",
    "    label.append(i[0])  # 收集 0：愉悦度； 1：唤醒度\n",
    "    \n",
    "label = np.array(label)\n",
    "print(label.shape)"
   ],
   "id": "28e5e947c1fdf99b",
   "execution_count": 5,
   "outputs": []
  },
  {
   "metadata": {
    "ExecuteTime": {
     "end_time": "2025-03-06T02:50:59.013029Z",
     "start_time": "2025-03-06T02:50:58.934617Z"
    }
   },
   "cell_type": "code",
   "source": [
    "data = []\n",
    "for i in eeg_DE_data:\n",
    "    data.append(i.flatten())\n",
    "\n",
    "data = np.array(data)\n",
    "print(data.shape)"
   ],
   "id": "34adb6192a9d7015",
   "execution_count": 7,
   "outputs": []
  },
  {
   "metadata": {
    "ExecuteTime": {
     "end_time": "2025-03-06T02:51:01.692839Z",
     "start_time": "2025-03-06T02:51:01.685896Z"
    }
   },
   "cell_type": "code",
   "source": [
    "dataset = pd.DataFrame(data)\n",
    "dataset[\"label\"] = label\n",
    "dataset.shape"
   ],
   "id": "746cfc62cd2a914d",
   "execution_count": 8,
   "outputs": []
  },
  {
   "metadata": {
    "ExecuteTime": {
     "end_time": "2025-03-06T02:51:04.118643Z",
     "start_time": "2025-03-06T02:51:04.101139Z"
    }
   },
   "cell_type": "code",
   "source": [
    "x=dataset.iloc[:,:-1] \n",
    "y=dataset.iloc[:,-1]"
   ],
   "id": "d925102469bdbe2f",
   "execution_count": 9,
   "outputs": []
  },
  {
   "metadata": {
    "ExecuteTime": {
     "end_time": "2025-03-06T02:51:06.979696Z",
     "start_time": "2025-03-06T02:51:06.961398Z"
    }
   },
   "cell_type": "code",
   "source": [
    "\n",
    "# Splitting the data into training and testing sets \n",
    "x_train,x_test,y_train,y_test=train_test_split(x,y,test_size=0.20) \n"
   ],
   "id": "db8d3e98f6bb8bc7",
   "execution_count": 10,
   "outputs": []
  },
  {
   "metadata": {
    "ExecuteTime": {
     "end_time": "2025-03-06T02:51:10.168837Z",
     "start_time": "2025-03-06T02:51:10.153569Z"
    }
   },
   "cell_type": "code",
   "source": [
    "# Defining the parameters grid for GridSearchCV \n",
    "param_grid={'C':[0.1,1,10,100], \n",
    "            'gamma':[0.0001,0.001,0.1,1], \n",
    "            'kernel':['rbf','poly']} \n",
    "  \n",
    "# Creating a support vector classifier \n",
    "svc = SVC(probability=True) \n",
    "  \n",
    "# Creating a model using GridSearchCV with the parameters grid \n",
    "model=GridSearchCV(svc,param_grid)"
   ],
   "id": "e0b3b7c891213c2e",
   "execution_count": 11,
   "outputs": []
  },
  {
   "metadata": {
    "jupyter": {
     "is_executing": true
    },
    "ExecuteTime": {
     "start_time": "2025-03-06T02:51:12.265769Z"
    }
   },
   "cell_type": "code",
   "source": [
    "# Training the model using the training data \n",
    "model.fit(x_train,y_train)"
   ],
   "id": "464efe1e0f3abec4",
   "execution_count": null,
   "outputs": []
  },
  {
   "metadata": {},
   "cell_type": "code",
   "execution_count": null,
   "source": [
    "# Testing the model using the testing data \n",
    "y_pred = model.predict(x_test) \n",
    "\n",
    "# Calculating the accuracy of the model \n",
    "accuracy = accuracy_score(y_pred, y_test) \n",
    "\n",
    "# Print the accuracy of the model \n",
    "print(f\"The model is {accuracy*100}% accurate\")"
   ],
   "id": "efc19a59e61e840c",
   "outputs": []
  }
 ],
 "metadata": {
  "kernelspec": {
   "display_name": "Python 3",
   "language": "python",
   "name": "python3"
  },
  "language_info": {
   "codemirror_mode": {
    "name": "ipython",
    "version": 2
   },
   "file_extension": ".py",
   "mimetype": "text/x-python",
   "name": "python",
   "nbconvert_exporter": "python",
   "pygments_lexer": "ipython2",
   "version": "2.7.6"
  }
 },
 "nbformat": 4,
 "nbformat_minor": 5
}
